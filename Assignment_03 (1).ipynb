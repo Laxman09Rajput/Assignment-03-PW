{
  "nbformat": 4,
  "nbformat_minor": 0,
  "metadata": {
    "colab": {
      "provenance": []
    },
    "kernelspec": {
      "name": "python3",
      "display_name": "Python 3"
    },
    "language_info": {
      "name": "python"
    }
  },
  "cells": [
    {
      "cell_type": "markdown",
      "source": [
        "## Functions\n",
        "\n",
        "1.What is the difference between a function and a method in Python ?\n",
        "    \n",
        "    FUNCTION:-\n",
        "\n",
        "  - In Python, a function is simply a piece of code that performs a useful task and can be used again at any time.  You place the code within a function and call it when needed rather than writing it repeatedly.  In addition to returning a result, functions can accept inputs, often known as arguments.  A function is created by using the def keyword, naming it, and then following it with parentheses ().  If necessary, you can add arguments inside the parenthesis.  The real code is then written inside the function (with the appropriate indentation).  Return is used if you wish the function to return a result.\n",
        "  \n",
        "    \n",
        "    METHOD:-\n",
        "\n",
        "  - Like a function in Python, a method is an object-working member of a class.  It can be thought of as an action that an object is capable of.  Through the use of methods, classes specify how objects should behave.  A method always contains a parameter called self, which represents the object being called on.  A method and a function differ from one another primarily in this way.  You use the class keyword to establish a class before creating a method.  Although the initial parameter of methods is self, they are specified inside the class, just like functions.  A class instance is created in order to invoke the method.\n"
      ],
      "metadata": {
        "id": "qdw_7VaropGC"
      }
    },
    {
      "cell_type": "markdown",
      "source": [],
      "metadata": {
        "id": "ZohCchGSqAZ3"
      }
    },
    {
      "cell_type": "code",
      "source": [
        "#EXAMPLE (FUNCTION)\n",
        "def greet(name):\n",
        "    return \"Namaskar, \" + name + \"!\"\n",
        "\n",
        "print(greet(\"Shiv\"))\n",
        "\n",
        "\n",
        "#EXAMPLE (METHOD)\n",
        "class Gouri:\n",
        "    def make_food(self):\n",
        "      return \"Gouri is making food\"\n",
        "g = Gouri()\n",
        "print(g.make_food())\n"
      ],
      "metadata": {
        "colab": {
          "base_uri": "https://localhost:8080/"
        },
        "id": "NMKH_ojavdGO",
        "outputId": "d571a9a4-809d-4ac0-f197-a1af12e5a4fe"
      },
      "execution_count": 19,
      "outputs": [
        {
          "output_type": "stream",
          "name": "stdout",
          "text": [
            "Namaskar, Shiv!\n",
            "Gouri is making food\n"
          ]
        }
      ]
    },
    {
      "cell_type": "markdown",
      "source": [
        " 2. Explain the concept of function arguments and parameters in Python.\n",
        "   - Function parameters and arguments in Python let you pass data into functions so they can process it.  A parameter is a variable that is defined in a function, but an argument is the value that is actually passed in when the function is called.  For instance, \"Alice\" is the argument when calling greet(\"Alice\"), and name is a parameter in def greet(name):.  Python has a variety of argument types.  Depending on their order in the function call, positional parameters are assigned.  The order is unimportant because you can define which parameter receives which value using keyword arguments.  With default arguments, a parameter is assigned a predefined value in the absence of an argument.  Because of these changes, functions may be designed with more flexibility and are more applicable to a variety of contexts.\n",
        "\n",
        "  \n"
      ],
      "metadata": {
        "id": "fkLx3FBzzU2n"
      }
    },
    {
      "cell_type": "code",
      "source": [
        "#EXAMPLE:-\n",
        "def greet(name, age=22):\n",
        "    print(f\"Hello, my name is {name} and I am {age} years old.\")\n",
        "greet(\"Ram\")\n",
        "greet(\"Laxman\", 23)"
      ],
      "metadata": {
        "colab": {
          "base_uri": "https://localhost:8080/"
        },
        "id": "Kq5UqWTJ294h",
        "outputId": "2980aa44-dd78-40db-8e4e-a708a241acb3"
      },
      "execution_count": 21,
      "outputs": [
        {
          "output_type": "stream",
          "name": "stdout",
          "text": [
            "Hello, my name is Ram and I am 22 years old.\n",
            "Hello, my name is Laxman and I am 23 years old.\n"
          ]
        }
      ]
    },
    {
      "cell_type": "markdown",
      "source": [
        "3. What are the different ways to define and call a function in Python ?\n",
        "\n",
        "   - In Python, a function is defined with the def keyword, followed by a name and parentheses.  Functions can receive parameters, return values, and perform a variety of activities.  They also allow for default arguments, variable-length arguments (args), and keyword arguments (*kwargs).  The lambda keyword in Python allows for anonymous functions known as lambda functions.  Functions can be used as methods in classes or nested within other functions.  Recursion is another useful approach in which a function solves a problem by calling itself.  Functions improve code organization, readability, and reusability.  To utilize a function, simply call its name with parentheses and give any necessary parameters.  Python's ease of defining and utilizing functions makes it ideal for handling a wide range of programming jobs fast and effectively.\n"
      ],
      "metadata": {
        "id": "loPiNTen3OzD"
      }
    },
    {
      "cell_type": "code",
      "source": [
        "#EXAMPLE:-\n",
        "def greet(name):\n",
        "    return f\"Hello, {name}!\"\n",
        "message = greet(\"Laxman\")\n",
        "print(message)"
      ],
      "metadata": {
        "colab": {
          "base_uri": "https://localhost:8080/"
        },
        "id": "MwI7uiORB5KK",
        "outputId": "ca6571f2-65e4-4a00-efc6-75ab3d1bb293"
      },
      "execution_count": 22,
      "outputs": [
        {
          "output_type": "stream",
          "name": "stdout",
          "text": [
            "Hello, Laxman!\n"
          ]
        }
      ]
    },
    {
      "cell_type": "markdown",
      "source": [
        "4. What is the purpose of the `return` statement in a Python function ?\n",
        "    - The return statement in Python is used to return a function's output to the caller.  When a function runs, it may analyze data, carry out calculations, or complete a task; the return allows it to pass the outcome.  The function would operate without it, but it would produce no output.  Numbers, text, lists, or even another function can all be returned by a function.  Python returns None by default if there isn't a return statement.  Functions become more flexible when you use tuples to return many values at once.  Proper use of return ensures that your code is reusable, effective, and tidy.  It facilitates the decomposition of intricate issues into smaller tasks, which makes your software simpler to administer and comprehend\n",
        "    "
      ],
      "metadata": {
        "id": "IGUTn-k2CQ6-"
      }
    },
    {
      "cell_type": "code",
      "source": [
        "#EXAMPLE:-\n",
        "def greet(name):\n",
        "    return \"Hello, \" + name + \"!\"\n",
        "message = greet(\"Laxman\")\n",
        "print(message)"
      ],
      "metadata": {
        "colab": {
          "base_uri": "https://localhost:8080/"
        },
        "id": "BwbYvHSkFvIM",
        "outputId": "a013a06a-528f-4f30-cdbd-7dd02c73f645"
      },
      "execution_count": 23,
      "outputs": [
        {
          "output_type": "stream",
          "name": "stdout",
          "text": [
            "Hello, Laxman!\n"
          ]
        }
      ]
    },
    {
      "cell_type": "markdown",
      "source": [
        "5. What are iterators in Python and how do they differ from iterables ?\n",
        "   - An iterator in Python is a tool that lets you work through elements one at a time without storing them all in memory at once.  You can ask for the next item and it will remember where you left off.  However, an iterable does not remember where you are; it is simply something that you can loop over, such as a string or list.  You need an iterator to actually navigate through an iterable.  Python automatically transforms the iterable into an iterator when you use a for loop.  The main distinction is that although an iterator performs the actual iteration, one item at a time, an iterable can be iterated over.\n",
        "   "
      ],
      "metadata": {
        "id": "36U4SjEqGaLA"
      }
    },
    {
      "cell_type": "code",
      "source": [
        "#EXAMPLE:-\n",
        "numbers = [1, 2, 3, 4]\n",
        "iterator = iter(numbers)\n",
        "print(next(iterator))\n",
        "print(next(iterator))\n",
        "print(next(iterator))\n",
        "print(next(iterator))\n",
        "\n"
      ],
      "metadata": {
        "colab": {
          "base_uri": "https://localhost:8080/"
        },
        "id": "dDQsn15wIPdb",
        "outputId": "f174b7dd-bb33-4f63-ff14-36353a423904"
      },
      "execution_count": 24,
      "outputs": [
        {
          "output_type": "stream",
          "name": "stdout",
          "text": [
            "1\n",
            "2\n",
            "3\n",
            "4\n"
          ]
        }
      ]
    },
    {
      "cell_type": "markdown",
      "source": [
        "6.  Explain the concept of generators in Python and how they are defined.\n",
        "    - Python generators are a unique kind of function that lets you create values one at a time rather than storing them all in memory at once.  Because they only generate values when required, they are helpful for working with big data sets.  Generators employ the yield keyword to pause and remember their state, in contrast to regular functions that cease and return a value.  This implies that you don't have to start over in order to obtain the subsequent value.  They are more effective at managing big volumes of data since they don't keep all values in memory."
      ],
      "metadata": {
        "id": "86zFXcjKJFRp"
      }
    },
    {
      "cell_type": "code",
      "source": [
        "#EXAMPLE:-\n",
        "\n",
        "def name_generator():\n",
        "    names = [\"Ram\", \"Lakshman\", \"Laxman\", \"Karan\", \"Shiv\", \"Gourav\"]\n",
        "    for name in names:\n",
        "        yield name\n",
        "gen = name_generator()\n",
        "print(next(gen))\n",
        "print(next(gen))\n",
        "print(next(gen))\n",
        "print(next(gen))\n",
        "print(next(gen))\n",
        "print(next(gen))"
      ],
      "metadata": {
        "colab": {
          "base_uri": "https://localhost:8080/"
        },
        "id": "9q_xqFAuKvGE",
        "outputId": "7b4db999-593c-402a-9d07-453001fb3a92"
      },
      "execution_count": 25,
      "outputs": [
        {
          "output_type": "stream",
          "name": "stdout",
          "text": [
            "Ram\n",
            "Lakshman\n",
            "Laxman\n",
            "Karan\n",
            "Shiv\n",
            "Gourav\n"
          ]
        }
      ]
    },
    {
      "cell_type": "markdown",
      "source": [
        "7. What are the advantages of using generators over regular functions ?\n",
        "\n",
        "   - When processing large amounts of data without consuming a lot of memory, generators are incredibly helpful.  They only provide you with one value at a time, upon request, rather than storing everything at once.  Because of this, they are quicker and more effective, particularly when managing real-time data or reading massive files.  Because they continue where they left off without requiring additional variables, they help simplify and make your code easier to manage.  In general, generators allow you to develop more effective applications without taxing your system."
      ],
      "metadata": {
        "id": "WMBzursELNNR"
      }
    },
    {
      "cell_type": "code",
      "source": [
        "#EXAMPLE:-\n",
        "def get_names():\n",
        "    return [\"Ram\", \"Lakshman\", \"Laxman\", \"Karan\", \"Shiv\", \"Gourav\"]\n",
        "names = get_names()\n",
        "for name in names:\n",
        "    print(name)"
      ],
      "metadata": {
        "colab": {
          "base_uri": "https://localhost:8080/"
        },
        "id": "ctHFtJROOSUv",
        "outputId": "6bc82fd1-6e32-4539-ffbf-3a9921af3549"
      },
      "execution_count": 26,
      "outputs": [
        {
          "output_type": "stream",
          "name": "stdout",
          "text": [
            "Ram\n",
            "Lakshman\n",
            "Laxman\n",
            "Karan\n",
            "Shiv\n",
            "Gourav\n"
          ]
        }
      ]
    },
    {
      "cell_type": "markdown",
      "source": [
        "8. What is a lambda function in Python and when is it typically used ?\n",
        "   \n",
        "   -In Python, creating a function without naming it may be done quickly and simply with one line using a lambda function.  It's helpful if you need a basic function for a quick task but don't want to write a complete def function.  Typically, people use them for quick calculations, sorting, and filtering.  Although they provide concise, clear code, they are best suited for straightforward tasks rather than complex logic because they can only do one task at a time."
      ],
      "metadata": {
        "id": "qsTRw2-TPYe-"
      }
    },
    {
      "cell_type": "code",
      "source": [
        "#EXAMPLE\n",
        "name_length = lambda name: len(name)\n",
        "print(name_length(\"Lakshman\"))\n",
        "print(name_length(\"Ram\"))"
      ],
      "metadata": {
        "colab": {
          "base_uri": "https://localhost:8080/"
        },
        "id": "O6apP9zfS4Be",
        "outputId": "c019bd1a-9d3d-4cbd-a383-975232661519"
      },
      "execution_count": 27,
      "outputs": [
        {
          "output_type": "stream",
          "name": "stdout",
          "text": [
            "8\n",
            "3\n"
          ]
        }
      ]
    },
    {
      "cell_type": "markdown",
      "source": [
        "9. Explain the purpose and usage of the `map()` function in Python.\n",
        "   - Python’s map() function lets you apply a function to every item in a list or tuple without writing a loop. This saves time and makes your code cleaner. It’s especially useful when working with large datasets because it avoids creating extra lists or variables. People often use map() for tasks like calculations, modifying text, or changing data types. It also works well with lambda functions, making quick transformations easy. But if the task is too complex, sometimes a regular loop is just easier to follow."
      ],
      "metadata": {
        "id": "MHkEAlPlTmlX"
      }
    },
    {
      "cell_type": "code",
      "source": [
        "#EXAMPLE\n",
        "numbers = [3, 6, 9, 12, 15]\n",
        "doubled_numbers = list(map(lambda x: x * 2, numbers))\n",
        "print(doubled_numbers)"
      ],
      "metadata": {
        "colab": {
          "base_uri": "https://localhost:8080/"
        },
        "id": "keuGSDU3adXK",
        "outputId": "3e881d65-2b80-4d6d-f94b-555b4d0213f5"
      },
      "execution_count": 28,
      "outputs": [
        {
          "output_type": "stream",
          "name": "stdout",
          "text": [
            "[6, 12, 18, 24, 30]\n"
          ]
        }
      ]
    },
    {
      "cell_type": "markdown",
      "source": [
        "10.  What is the difference between `map()`, `reduce()`, and `filter()` functions in Python ?\n",
        "\n",
        "   -   So, in Python, there are three functions: map(), filter(), and reduce(), and each one does something different. map() lets you apply a function to every item in a list and then gives you a new list with all the updated values. It’s useful when you need to transform data quickly. Then, filter() is for when you want to keep only the items that meet a certain condition. It checks each item, and if the function returns True, it keeps that item. Lastly, reduce() applies a function repeatedly to a list, reducing all the items to a single result, like summing or multiplying them. You need to import reduce() from functools, though. These functions make your code shorter, but sometimes a regular loop is better when the task is too complex  \n",
        "\n"
      ],
      "metadata": {
        "id": "ytydQ79NcPHa"
      }
    },
    {
      "cell_type": "code",
      "source": [
        "#EXAMPLE\n",
        "ages = [18, 22, 16, 24, 30, 19]\n",
        "updated_ages = list(map(lambda age: age + 1, ages))\n",
        "print(\"Updated Ages:\", updated_ages)\n",
        "adults = list(filter(lambda age: age > 18, ages))\n",
        "print(\"Adults:\", adults)\n",
        "total_age = reduce(lambda x, y: x + y, ages)\n",
        "print(\"Total Age:\", total_age)"
      ],
      "metadata": {
        "colab": {
          "base_uri": "https://localhost:8080/"
        },
        "id": "jI6c66z2ln2o",
        "outputId": "d0d9f53c-ed0e-457e-8816-6e6dee41a6ca"
      },
      "execution_count": 37,
      "outputs": [
        {
          "output_type": "stream",
          "name": "stdout",
          "text": [
            "Updated Ages: [19, 23, 17, 25, 31, 20]\n",
            "Adults: [22, 24, 30, 19]\n",
            "Total Age: 129\n"
          ]
        }
      ]
    },
    {
      "cell_type": "markdown",
      "source": [
        "11. Using pen & Paper write the internal mechanism for sum operation using  reduce function on this given\n",
        "list:[47,11,42,13];\n",
        "\n",
        "-![Assignment photo 03.jpg]()"
      ],
      "metadata": {
        "id": "92BI0ivtmlIj"
      }
    },
    {
      "cell_type": "code",
      "source": [
        "numbers=[47,11,42,13]\n",
        "result= reduce  (lambda x,y: x+y,numbers)\n",
        "print(result)"
      ],
      "metadata": {
        "colab": {
          "base_uri": "https://localhost:8080/"
        },
        "id": "U9mdlJNhqaUI",
        "outputId": "67380612-74d0-49db-f1e1-8ac4e1d037dc"
      },
      "execution_count": 41,
      "outputs": [
        {
          "output_type": "stream",
          "name": "stdout",
          "text": [
            "113\n"
          ]
        }
      ]
    },
    {
      "cell_type": "markdown",
      "source": [
        "--------------------------------------------------------------------------------------------------"
      ],
      "metadata": {
        "id": "XcR-0__kuA4f"
      }
    },
    {
      "cell_type": "code",
      "source": [
        "##Practical Questions:-\n",
        "def sum_even_numbers(numbers):\n",
        "    return sum(number for number in numbers if number % 2 == 0)\n",
        "\n",
        "numbers = [1, 2, 3, 4, 5, 6, 7, 8, 9]\n",
        "print(\"Sum of even numbers:\", sum_even_numbers(numbers))\n",
        "\n",
        "def reverse_string(s):\n",
        "    return s[::-1]\n",
        "\n",
        "string = \"Hello\"\n",
        "print(\"Reversed string:\", reverse_string(string))\n",
        "\n",
        "def get_squares(numbers):\n",
        "    return [number ** 2 for number in numbers]\n",
        "\n",
        "print(\"Squares of numbers:\", get_squares(numbers))\n",
        "\n",
        "\n",
        "def is_prime(number):\n",
        "    if number <= 1:\n",
        "        return False\n",
        "    for i in range(2, int(number ** 0.5) + 1):\n",
        "        if number % i == 0:\n",
        "            return False\n",
        "    return True\n",
        "\n",
        "prime_numbers = [num for num in range(1, 21) if is_prime(num)]\n",
        "print(\"Prime numbers:\", prime_numbers)\n",
        "\n",
        "class FibonacciIterator:\n",
        "    def __init__(self, terms):\n",
        "        self.terms = terms\n",
        "        self.a, self.b = 0, 1\n",
        "        self.count = 0\n",
        "\n",
        "    def __iter__(self):\n",
        "        return self\n",
        "\n",
        "    def __next__(self):\n",
        "        if self.count < self.terms:\n",
        "            current_fib = self.a\n",
        "            self.a, self.b = self.b, self.a + self.b\n",
        "            self.count += 1\n",
        "            return current_fib\n",
        "        else:\n",
        "            raise StopIteration\n",
        "\n",
        "\n",
        "fib_iter = FibonacciIterator(10)\n",
        "print(\"Fibonacci sequence:\", list(fib_iter))\n",
        "\n",
        "def powers_of_two(exponent):\n",
        "    for i in range(exponent + 1):\n",
        "        yield 2 ** i\n",
        "\n",
        "\n",
        "print(\"Powers of 2:\", list(powers_of_two(5)))\n",
        "\n",
        "sorted_list = sorted([(1, 3), (4, 2), (6, 1)], key=lambda x: x[1])\n",
        "print(\"Sorted list:\", sorted_list)\n",
        "\n",
        "celsius_to_fahrenheit = list(map(lambda c: (c * 9/5) + 32, [0, 10, 20, 30, 40]))\n",
        "print(\"Celsius to Fahrenheit:\", celsius_to_fahrenheit)\n",
        "\n",
        "remove_vowels = filter(lambda x: x not in 'aeiouAEIOU', \"education\")\n",
        "print(\"String without vowels:\", ''.join(remove_vowels))\n",
        "\n"
      ],
      "metadata": {
        "colab": {
          "base_uri": "https://localhost:8080/"
        },
        "id": "uJ6BOmc-zeof",
        "outputId": "f34bbe06-4119-4fde-ab7d-94e7d643f8f9"
      },
      "execution_count": 69,
      "outputs": [
        {
          "output_type": "stream",
          "name": "stdout",
          "text": [
            "Sum of even numbers: 20\n",
            "Reversed string: olleH\n",
            "Squares of numbers: [1, 4, 9, 16, 25, 36, 49, 64, 81]\n",
            "Prime numbers: [2, 3, 5, 7, 11, 13, 17, 19]\n",
            "Fibonacci sequence: [0, 1, 1, 2, 3, 5, 8, 13, 21, 34]\n",
            "Powers of 2: [1, 2, 4, 8, 16, 32]\n",
            "Sorted list: [(6, 1), (4, 2), (1, 3)]\n",
            "Celsius to Fahrenheit: [32.0, 50.0, 68.0, 86.0, 104.0]\n",
            "String without vowels: dctn\n"
          ]
        }
      ]
    },
    {
      "cell_type": "code",
      "source": [
        "\n",
        "orders = [\n",
        "    [1, 'book1', 15.0, 5],\n",
        "    [2, 'book2', 20.0, 3],\n",
        "    [3, 'book3', 25.0, 2],\n",
        "    [4, 'book4', 8.0, 10],\n",
        "]\n",
        "\n",
        "result = list(map(\n",
        "    lambda order: (order[0], (order[2] * order[3]) + 10 if (order[2] * order[3]) < 100 else order[2] * order[3]),\n",
        "    orders\n",
        "))\n",
        "\n",
        "print(result)\n"
      ],
      "metadata": {
        "colab": {
          "base_uri": "https://localhost:8080/"
        },
        "id": "5356qMK054MH",
        "outputId": "4f551051-f950-46b1-b5ef-060184cdd7f5"
      },
      "execution_count": 73,
      "outputs": [
        {
          "output_type": "stream",
          "name": "stdout",
          "text": [
            "[(1, 85.0), (2, 70.0), (3, 60.0), (4, 90.0)]\n"
          ]
        }
      ]
    }
  ]
}